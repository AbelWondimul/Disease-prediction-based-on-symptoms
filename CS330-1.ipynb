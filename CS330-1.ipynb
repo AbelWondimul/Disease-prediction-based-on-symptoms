{
 "cells": [
  {
   "cell_type": "code",
   "execution_count": null,
   "id": "48bd5c1a-bce9-4b87-9730-df0c3ce0f7b5",
   "metadata": {},
   "outputs": [],
   "source": [
    "import time\n",
    "import pandas as pd\n",
    "import numpy as np\n",
    "from sklearn.model_selection import train_test_split\n",
    "from sklearn.preprocessing import LabelEncoder\n",
    "from collections import Counter\n",
    "import xgboost as xgb\n",
    "\n",
    "\n",
    "df = pd.read_csv(\"Final_Augmented_dataset_Diseases_and_Symptoms.csv\")\n",
    "X = df.drop(\"diseases\", axis=1)\n",
    "y = df[\"diseases\"]\n",
    "\n",
    "\n",
    "le = LabelEncoder()\n",
    "y_encoded = le.fit_transform(y)\n",
    "\n",
    "\n",
    "class_counts = Counter(y_encoded)\n",
    "valid_classes = [cls for cls, count in class_counts.items() if count >= 2]\n",
    "mask = np.isin(y_encoded, valid_classes)\n",
    "\n",
    "\n",
    "X_filtered = X[mask]\n",
    "y_filtered = y[mask]\n",
    "\n",
    "\n",
    "le_filtered = LabelEncoder()\n",
    "y_final = le_filtered.fit_transform(y_filtered)\n",
    "\n",
    "\n",
    "X_train, X_test, y_train, y_test = train_test_split(\n",
    "    X_filtered, y_final, test_size=0.2, random_state=42, stratify=y_final\n",
    ")\n"
   ]
  },
  {
   "cell_type": "code",
   "execution_count": null,
   "id": "3429f2ac-4fb0-437b-901c-e55b2c3b0ce8",
   "metadata": {},
   "outputs": [
    {
     "name": "stdout",
     "output_type": "stream",
     "text": [
      "Actual: strep throat  |  Predicted: strep throat\n",
      "Actual: otitis externa (swimmer's ear)  |  Predicted: otitis externa (swimmer's ear)\n",
      "Actual: retinal detachment  |  Predicted: retinal detachment\n",
      "Actual: otitis externa (swimmer's ear)  |  Predicted: otitis externa (swimmer's ear)\n",
      "Actual: obstructive sleep apnea (osa)  |  Predicted: tietze syndrome\n",
      "Actual: trichomonas infection  |  Predicted: trichomonas infection\n",
      "Actual: trichomonas infection  |  Predicted: trichomonas infection\n",
      "Actual: trigeminal neuralgia  |  Predicted: trigeminal neuralgia\n",
      "Actual: dementia  |  Predicted: dementia\n",
      "Actual: mumps  |  Predicted: mumps\n",
      "\n",
      "✅ Accuracy: 0.8391 (83.91%)\n"
     ]
    }
   ],
   "source": [
    "y_pred = model.predict(X_test)\n",
    "\n",
    "\n",
    "predicted_diseases = le_filtered.inverse_transform(y_pred)\n",
    "actual_diseases = le_filtered.inverse_transform(y_test)\n",
    "\n",
    "\n",
    "for i in range(10):\n",
    "    print(f\"Actual: {actual_diseases[i]}  |  Predicted: {predicted_diseases[i]}\")\n",
    "\n",
    "\n",
    "from sklearn.metrics import accuracy_score\n",
    "\n",
    "accuracy = accuracy_score(y_test, y_pred)\n",
    "print(f\"\\n✅ Accuracy: {accuracy:.4f} ({accuracy * 100:.2f}%)\")"
   ]
  },
  {
   "cell_type": "code",
   "execution_count": 40,
   "id": "bb71a095-da5a-4e56-9e1b-0e94c7cf8fe5",
   "metadata": {},
   "outputs": [
    {
     "name": "stdout",
     "output_type": "stream",
     "text": [
      "[531 531 531 ... 506 506 506]\n"
     ]
    }
   ],
   "source": [
    "\n"
   ]
  },
  {
   "cell_type": "code",
   "execution_count": null,
   "id": "9002f535-818a-4768-8eab-700b49c125de",
   "metadata": {},
   "outputs": [],
   "source": [
    "model = xgb.XGBClassifier(\n",
    "    objective=\"multi:softprob\",  \n",
    "    num_class=len(np.unique(y_final)),\n",
    "    eval_metric=\"mlogloss\",\n",
    "    learning_rate=0.1,           \n",
    "    max_depth=8,                 \n",
    "    n_estimators=200,            \n",
    "    subsample=0.8,               \n",
    "    colsample_bytree=0.8,       \n",
    "    verbosity=1\n",
    ")\n",
    "\n",
    "\n",
    "start = time.time()\n",
    "model.fit(X_train, y_train)\n",
    "end = time.time()\n",
    "print(f\"✅ Training completed in {end - start:.2f} seconds.\")\n",
    "\n",
    "\n",
    "y_proba = model.predict_proba(X_test)\n",
    "y_pred = np.argmax(y_proba, axis=1)\n"
   ]
  },
  {
   "cell_type": "code",
   "execution_count": null,
   "id": "f183c0a6-0638-425d-928a-4be3cf7e3f38",
   "metadata": {},
   "outputs": [
    {
     "name": "stdout",
     "output_type": "stream",
     "text": [
      "\n",
      "🎯 Accuracy: 0.8391 (83.91%)\n",
      "🎯 Top-3 Accuracy: 0.9498\n",
      "🎯 Top-5 Accuracy: 0.9742\n"
     ]
    }
   ],
   "source": [
    "from sklearn.metrics import accuracy_score, top_k_accuracy_score\n",
    "\n",
    "num_classes = model.n_classes_ \n",
    "\n",
    "acc = accuracy_score(y_test, y_pred)\n",
    "top3_acc = top_k_accuracy_score(y_test, y_proba, k=3, labels=np.arange(num_classes))\n",
    "top5_acc = top_k_accuracy_score(y_test, y_proba, k=5, labels=np.arange(num_classes))\n",
    "\n",
    "print(f\"\\n🎯 Accuracy: {acc:.4f} ({acc * 100:.2f}%)\")\n",
    "print(f\"🎯 Top-3 Accuracy: {top3_acc:.4f}\")\n",
    "print(f\"🎯 Top-5 Accuracy: {top5_acc:.4f}\")"
   ]
  },
  {
   "cell_type": "code",
   "execution_count": null,
   "id": "bd8183ac-63d1-416c-a344-bb182f80b150",
   "metadata": {},
   "outputs": [],
   "source": [
    "def predict_disease_by_name(symptom_names, model, label_encoder, column_names):\n",
    "    \n",
    "    input_vector = np.zeros((1, len(column_names)))\n",
    "    for symptom in symptom_names:\n",
    "        if symptom in column_names:\n",
    "            index = column_names.get_loc(symptom)\n",
    "            input_vector[0, index] = 1\n",
    "        else:\n",
    "            print(f\"'{symptom}' not found in symptom list.\")\n",
    "\n",
    "    \n",
    "    class_index = model.predict(input_vector)[0]\n",
    "    predicted_disease = label_encoder.inverse_transform([class_index])[0]\n",
    "\n",
    "    print(f\"Predicted Disease: {predicted_disease}\")\n",
    "\n",
    "    proba = model.predict_proba(input_vector)\n",
    "    top3 = np.argsort(proba[0])[::-1][:3]\n",
    "    print(\"\\n🔍 Top 3 Likely Diseases:\")\n",
    "    for idx in top3:\n",
    "        name = label_encoder.inverse_transform([idx])[0]\n",
    "        print(f\"• {name}: {proba[0][idx]:.4f}\")\n"
   ]
  },
  {
   "cell_type": "code",
   "execution_count": 54,
   "id": "a07ce78a-efaa-47f9-a7df-09a4a25e7797",
   "metadata": {},
   "outputs": [
    {
     "name": "stdout",
     "output_type": "stream",
     "text": [
      "\n",
      "✅ Predicted Disease: panic disorder\n",
      "\n",
      "🔍 Top 3 Likely Diseases:\n",
      "• panic disorder: 0.3023\n",
      "• persistent vomiting of unknown cause: 0.2684\n",
      "• spinocerebellar ataxia: 0.1694\n"
     ]
    }
   ],
   "source": [
    "predict_disease_by_name(\n",
    "    [\"anxiety and nervousness\", \"dizziness\", \"fever\"],\n",
    "    model,\n",
    "    le_filtered,\n",
    "    X.columns  \n",
    ")\n",
    "\n"
   ]
  },
  {
   "cell_type": "code",
   "execution_count": 58,
   "id": "b494b976-b85d-48db-8a2b-b4b5636d2b3c",
   "metadata": {},
   "outputs": [
    {
     "name": "stdout",
     "output_type": "stream",
     "text": [
      "\n",
      "✅ Predicted Disease: pneumoconiosis\n",
      "\n",
      "🔍 Top 3 Likely Diseases:\n",
      "• pneumoconiosis: 0.8862\n",
      "• persistent vomiting of unknown cause: 0.0250\n",
      "• pulmonary eosinophilia: 0.0205\n"
     ]
    }
   ],
   "source": [
    "predict_disease_by_name(\n",
    "    [\"fever\", \"dizziness\", \"shortness of breath\"],\n",
    "    model,\n",
    "    le_filtered,\n",
    "    X.columns\n",
    ")"
   ]
  },
  {
   "cell_type": "code",
   "execution_count": null,
   "id": "aef22275-3bef-42be-84c0-4dfc74a80743",
   "metadata": {},
   "outputs": [
    {
     "name": "stdout",
     "output_type": "stream",
     "text": [
      "✅ All files saved for future prediction.\n",
      "✅ All files saved for future prediction.\n"
     ]
    }
   ],
   "source": [
    "import pickle\n",
    "\n",
    "\n",
    "with open(\"disease_model.sav\", \"wb\") as f:\n",
    "    pickle.dump(model, f)\n",
    "\n",
    "\n",
    "with open(\"label_encoder.sav\", \"wb\") as f:\n",
    "    pickle.dump(le_filtered, f)\n",
    "\n",
    "\n",
    "with open(\"symptom_columns.sav\", \"wb\") as f:\n",
    "    pickle.dump(list(X.columns), f)\n",
    "\n",
    "print(\"✅ All files saved for future prediction.\")\n"
   ]
  }
 ],
 "metadata": {
  "kernelspec": {
   "display_name": "Python [conda env:base] *",
   "language": "python",
   "name": "conda-base-py"
  },
  "language_info": {
   "codemirror_mode": {
    "name": "ipython",
    "version": 3
   },
   "file_extension": ".py",
   "mimetype": "text/x-python",
   "name": "python",
   "nbconvert_exporter": "python",
   "pygments_lexer": "ipython3",
   "version": "3.12.7"
  }
 },
 "nbformat": 4,
 "nbformat_minor": 5
}
